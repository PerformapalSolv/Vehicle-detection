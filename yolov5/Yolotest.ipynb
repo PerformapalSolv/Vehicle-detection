{
 "cells": [
  {
   "cell_type": "code",
   "execution_count": null,
   "id": "db789dea-fb8f-4554-aa66-0b0a2f697691",
   "metadata": {},
   "outputs": [],
   "source": [
    "import torch\n",
    "\n",
    "model = torch.hub.load(\"./\", \"yolov5s\", source=\"local\")\n",
    "\n",
    "img = \"../BITVehicle/vehicle_0000002.jpg\"\n",
    "\n",
    "result = model(img)\n",
    "\n",
    "result.show()"
   ]
  }
 ],
 "metadata": {
  "kernelspec": {
   "display_name": "Python 3 (ipykernel)",
   "language": "python",
   "name": "python3"
  },
  "language_info": {
   "codemirror_mode": {
    "name": "ipython",
    "version": 3
   },
   "file_extension": ".py",
   "mimetype": "text/x-python",
   "name": "python",
   "nbconvert_exporter": "python",
   "pygments_lexer": "ipython3",
   "version": "3.9.18"
  }
 },
 "nbformat": 4,
 "nbformat_minor": 5
}
